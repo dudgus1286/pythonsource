{
 "cells": [
  {
   "cell_type": "markdown",
   "metadata": {},
   "source": [
    "pip : 파이썬 모듈이나 패키지를 쉽게 설치할 수 있도록 도와주는 도구\n",
    "\n",
    "1. 라이브러리 설치\n",
    "pip install 패키지명\n",
    "pip install 패키지명 == 1.0.4\n",
    "\n",
    "2. 라이브러리 업그레이드\n",
    "pip install --upgrade 패키지명\n",
    "\n",
    "3. 패키지 제거\n",
    "pip uninstall 패키지명\n",
    "\n",
    "4. 설치된 패키지 확인\n",
    "pip list\n",
    "\n",
    "pip install openpyxl : 엑셀파일 패키지\n",
    "pip install Pillow : 이미지 패키지"
   ]
  },
  {
   "cell_type": "code",
   "execution_count": 1,
   "metadata": {},
   "outputs": [],
   "source": [
    "from openpyxl import Workbook\n",
    "\n",
    "# 새 워크북 생성\n",
    "wb = Workbook()\n",
    "\n",
    "# 현재 활성화된 sheet 가져옴\n",
    "ws = wb.active\n",
    "\n",
    "ws.title = \"시트1\"\n",
    "wb.save(\"./resource/sample.xlsx\")\n",
    "wb.close()"
   ]
  },
  {
   "cell_type": "code",
   "execution_count": 2,
   "metadata": {},
   "outputs": [],
   "source": [
    "# 시트 생성\n",
    "ws1 = wb.create_sheet()\n",
    "ws1.title = \"시트2\"\n",
    "ws1.sheet_properties.tabColor = \"ff66ff\"\n",
    "\n",
    "wb.save(\"./resource/sample.xlsx\")\n",
    "wb.close()"
   ]
  },
  {
   "cell_type": "code",
   "execution_count": 3,
   "metadata": {},
   "outputs": [],
   "source": [
    "# index : 시트 위치 지정\n",
    "ws1 = wb.create_sheet(title=\"급여명세\",index=2)\n",
    "\n",
    "# 시트 복사\n",
    "new_ws = wb[\"시트2\"]\n",
    "new_ws[\"A1\"] = \"Test\"\n",
    "target = wb.copy_worksheet(new_ws)\n",
    "target.title = \"Copied Sheet\"\n",
    "\n",
    "wb.save(\"./resource/sample.xlsx\")"
   ]
  },
  {
   "cell_type": "code",
   "execution_count": 5,
   "metadata": {},
   "outputs": [
    {
     "name": "stdout",
     "output_type": "stream",
     "text": [
      "['시트1', '시트2', '급여명세', 'Copied Sheet']\n"
     ]
    }
   ],
   "source": [
    "# 생성된 모든 시트명 가져오기\n",
    "print(wb.sheetnames)"
   ]
  },
  {
   "cell_type": "code",
   "execution_count": 10,
   "metadata": {},
   "outputs": [
    {
     "name": "stdout",
     "output_type": "stream",
     "text": [
      "<Cell '시트1'.A1>\n",
      "1\n",
      "1\n",
      "6\n",
      "10\n"
     ]
    }
   ],
   "source": [
    "ws1 = wb[\"시트1\"]\n",
    "\n",
    "# 셀에 데이터 입력\n",
    "ws1[\"A1\"] = 1\n",
    "ws1[\"A2\"] = 2\n",
    "ws1[\"A3\"] = 3\n",
    "ws1[\"A4\"] = 4\n",
    "\n",
    "ws1[\"B1\"] = 5\n",
    "ws1[\"B2\"] = 6\n",
    "ws1[\"B3\"] = 7\n",
    "ws1[\"B4\"] = 8\n",
    "\n",
    "# 셀 정보 출력\n",
    "print(ws1[\"A1\"])\n",
    "# 셀 값 출력\n",
    "print(ws1[\"A1\"].value)\n",
    "\n",
    "# A1\n",
    "print(ws1.cell(row=1, column=1).value)\n",
    "# B2\n",
    "print(ws1.cell(row=2, column=2).value)\n",
    "\n",
    "w=ws1.cell(row=1, column=3,value=10)\n",
    "print(w.value)\n",
    "\n",
    "wb.save(\"./resource/sample.xlsx\")"
   ]
  },
  {
   "cell_type": "code",
   "execution_count": 11,
   "metadata": {},
   "outputs": [],
   "source": [
    "# 1~100 사이의 임의의 숫자를 채우기\n",
    "from random import randint\n",
    "\n",
    "wb= Workbook()\n",
    "ws = wb.active\n",
    "\n",
    "ws.title = \"시트1\"\n",
    "\n",
    "for x in range(1,11):\n",
    "    for y in range(1,11):\n",
    "        ws.cell(row=x,column=y,value=randint(1,101))\n",
    "\n",
    "wb.save(\"./resource/sample2.xlsx\")\n",
    "wb.close()"
   ]
  },
  {
   "cell_type": "code",
   "execution_count": 17,
   "metadata": {},
   "outputs": [
    {
     "name": "stdout",
     "output_type": "stream",
     "text": [
      "80 6 24 15 14 54 37 71 73 61 \n",
      "59 6 79 19 3 4 8 81 29 66 \n",
      "82 31 58 83 60 71 27 57 67 52 \n",
      "60 71 25 50 3 88 74 95 38 16 \n",
      "55 8 93 97 95 44 29 13 64 9 \n",
      "40 17 39 86 88 58 45 5 11 50 \n",
      "68 2 77 19 27 49 88 70 69 38 \n",
      "41 46 46 30 33 1 66 92 32 68 \n",
      "77 91 45 48 26 46 77 33 32 31 \n",
      "66 87 34 66 95 68 60 95 81 62 \n",
      "\n",
      "80 6 24 15 14 54 37 71 73 61 \n",
      "59 6 79 19 3 4 8 81 29 66 \n",
      "82 31 58 83 60 71 27 57 67 52 \n",
      "60 71 25 50 3 88 74 95 38 16 \n",
      "55 8 93 97 95 44 29 13 64 9 \n",
      "40 17 39 86 88 58 45 5 11 50 \n",
      "68 2 77 19 27 49 88 70 69 38 \n",
      "41 46 46 30 33 1 66 92 32 68 \n",
      "77 91 45 48 26 46 77 33 32 31 \n",
      "66 87 34 66 95 68 60 95 81 62 \n"
     ]
    }
   ],
   "source": [
    "# excel 파일 열기\n",
    "from openpyxl import load_workbook\n",
    "wb = load_workbook(\"./resource/sample2.xlsx\")\n",
    "\n",
    "# 워크시트 가져오기\n",
    "ws = wb.active\n",
    "\n",
    "# 셀 내용 가져오기 - 행, 열 개수 알고 있을 때\n",
    "# for x in range(1,11):\n",
    "#     for y in range(1,11):\n",
    "#         print(ws.cell(row=x,column=y).value, end=\" \")\n",
    "#     print()\n",
    "\n",
    "# print()\n",
    "\n",
    "# 시트가 가지고 있는 행, 열의 개수 가져오기 : max_row, max_column\n",
    "for x in range(1, ws.max_row+1):\n",
    "    for y in range(1, ws.max_column+1):\n",
    "        print(ws.cell(row=x,column=y).value,end=\" \")\n",
    "    print()"
   ]
  },
  {
   "cell_type": "code",
   "execution_count": 6,
   "metadata": {},
   "outputs": [
    {
     "name": "stdout",
     "output_type": "stream",
     "text": [
      "번호 1 2 3 4 \n",
      "영어 53 60 83 23 \n"
     ]
    }
   ],
   "source": [
    "from openpyxl import Workbook\n",
    "from random import randint\n",
    "\n",
    "wb = Workbook()\n",
    "ws = wb.active\n",
    "\n",
    "# 행 단위 삽입\n",
    "# 리스트로 값 입력\n",
    "ws.append([\"번호\", \"영어\", \"수학\"])\n",
    "\n",
    "for i in range(1,11):\n",
    "    ws.append([i, randint(1,100), randint(1,100)])\n",
    "\n",
    "# 컬럼 가져오기\n",
    "# col_B = ws[\"B\"]\n",
    "# print(col_B)\n",
    "# for cell in col_B:\n",
    "#     print(cell.value)\n",
    "\n",
    "# 컬럼 가져오기 2\n",
    "# cols = ws[\"B:C\"]\n",
    "# for c in cols:\n",
    "#     for cell in c :\n",
    "#         print(cell.value, end=\" \")\n",
    "#     print()\n",
    "\n",
    "# 행 가져오기\n",
    "# row_title = ws[1]\n",
    "# for cell in row_title:\n",
    "#     print(cell.value)\n",
    "\n",
    "# 여러 행 가져오기\n",
    "# row_range = ws[2:6]\n",
    "# for rows in row_range:\n",
    "#     for cell in rows:\n",
    "#         print(cell.value, end=\" \")\n",
    "#     print()\n",
    "\n",
    "# 여러 행 가져오기 2\n",
    "# row_range = ws[2:ws.max_row+1]\n",
    "# for rows in row_range:\n",
    "#     for cell in rows:\n",
    "#         print(cell.value, end=\" \")\n",
    "#     print()\n",
    "\n",
    "# 튜플로 묶기\n",
    "# for row in tuple(ws.rows):\n",
    "#     print(row[1].value)\n",
    "# for col in tuple(ws.columns):\n",
    "#     print(col[0].value)\n",
    "\n",
    "# ws.iter_rows() : 전체 rows 가져오기\n",
    "# ws.iter_rows(min_row=1, max_row=5, max_col=1) : 특정 범위의 rows, cols 가져오기\n",
    "# for row in ws.iter_rows(min_row=1, max_row=5, max_col=1):\n",
    "#     for cell in row:\n",
    "#         print(cell.value, end=\" \")\n",
    "#     print()\n",
    "\n",
    "for col in ws.iter_cols(min_row=1, max_row=5, max_col=2):\n",
    "    for cell in col:\n",
    "        print(cell.value, end=\" \")\n",
    "    print()\n",
    "\n",
    "wb.save(\"./resource/range.xlsx\")"
   ]
  },
  {
   "cell_type": "code",
   "execution_count": null,
   "metadata": {},
   "outputs": [],
   "source": []
  }
 ],
 "metadata": {
  "kernelspec": {
   "display_name": "venv",
   "language": "python",
   "name": "python3"
  },
  "language_info": {
   "codemirror_mode": {
    "name": "ipython",
    "version": 3
   },
   "file_extension": ".py",
   "mimetype": "text/x-python",
   "name": "python",
   "nbconvert_exporter": "python",
   "pygments_lexer": "ipython3",
   "version": "3.12.3"
  }
 },
 "nbformat": 4,
 "nbformat_minor": 2
}
