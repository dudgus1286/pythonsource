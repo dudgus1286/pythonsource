{
 "cells": [
  {
   "cell_type": "code",
   "execution_count": 7,
   "metadata": {},
   "outputs": [
    {
     "name": "stdout",
     "output_type": "stream",
     "text": [
      "{'id': 'hong', 'language': 'python', 'edition': '3.5', 'author': 'Guido van Rossum'}\n",
      "hong\n",
      "hong\n",
      "id hong\n",
      "language python\n",
      "edition 3.5\n",
      "author Guido van Rossum\n"
     ]
    }
   ],
   "source": [
    "import json\n",
    "\n",
    "data = '{\"id\":\"hong\", \"language\":\"python\",\"edition\":\"3.5\", \"author\":\"Guido van Rossum\"}'\n",
    "# type(data)\n",
    "\n",
    "# 자바스크립트은 {} ==> JSON.stringify(값) ==> json\n",
    "# 파이썬은 dict ==> json.loads(str값) ==> json\n",
    "# 또는 dict ==> json.dump(dict값) ==> json\n",
    "json_data=json.loads(data)\n",
    "print(json_data)\n",
    "print(json_data['id'])\n",
    "print(json_data.get('id'))\n",
    "\n",
    "for k, v in json_data.items():\n",
    "    print(k,v)"
   ]
  },
  {
   "cell_type": "code",
   "execution_count": 9,
   "metadata": {},
   "outputs": [
    {
     "name": "stdout",
     "output_type": "stream",
     "text": [
      "<class 'str'>\n",
      "{\"id\": \"hong\", \"language\": \"python\", \"edition\": \"3.5\", \"author\": \"Guido van Rossum\"}\n"
     ]
    }
   ],
   "source": [
    "data = {\"id\":\"hong\", \"language\":\"python\",\"edition\":\"3.5\", \"author\":\"Guido van Rossum\"}\n",
    "# type(data)\n",
    "\n",
    "json_data = json.dumps(data)\n",
    "\n",
    "print(type(json_data))\n",
    "print(json_data)"
   ]
  },
  {
   "cell_type": "code",
   "execution_count": 10,
   "metadata": {},
   "outputs": [],
   "source": [
    "data = {\"id\":\"hong\", \"language\":\"python\",\"edition\":\"3.5\", \"author\":\"Guido van Rossum\"}\n",
    "\n",
    "# json.dump(dict) ==> json 파일로 저장\n",
    "\n",
    "with open(\"./download/test.json\", \"w\", encoding=\"utf-8\") as f:\n",
    "    json.dump(data, f, indent=2)"
   ]
  },
  {
   "cell_type": "code",
   "execution_count": 11,
   "metadata": {},
   "outputs": [
    {
     "name": "stdout",
     "output_type": "stream",
     "text": [
      "{'id': 'hong', 'language': 'python', 'edition': '3.5', 'author': 'Guido van Rossum'}\n"
     ]
    }
   ],
   "source": [
    "# json.load(jsonfile) ==> dict 으로 읽어오기\n",
    "with open(\"./download/test.json\", \"r\", encoding=\"utf-8\") as f:\n",
    "    print(json.load(f))"
   ]
  },
  {
   "cell_type": "code",
   "execution_count": 24,
   "metadata": {},
   "outputs": [
    {
     "name": "stdout",
     "output_type": "stream",
     "text": [
      "kind : youtube#videoCategory , title : Film & Animation\n",
      "kind : youtube#videoCategory , title : Autos & Vehicles\n",
      "kind : youtube#videoCategory , title : Music\n",
      "kind : youtube#videoCategory , title : Pets & Animals\n",
      "kind : youtube#videoCategory , title : Sports\n",
      "kind : youtube#videoCategory , title : Short Movies\n",
      "kind : youtube#videoCategory , title : Travel & Events\n",
      "kind : youtube#videoCategory , title : Gaming\n",
      "kind : youtube#videoCategory , title : Videoblogging\n",
      "kind : youtube#videoCategory , title : People & Blogs\n",
      "kind : youtube#videoCategory , title : Comedy\n",
      "kind : youtube#videoCategory , title : Entertainment\n",
      "kind : youtube#videoCategory , title : News & Politics\n",
      "kind : youtube#videoCategory , title : Howto & Style\n",
      "kind : youtube#videoCategory , title : Education\n",
      "kind : youtube#videoCategory , title : Science & Technology\n",
      "kind : youtube#videoCategory , title : Nonprofits & Activism\n",
      "kind : youtube#videoCategory , title : Movies\n",
      "kind : youtube#videoCategory , title : Anime/Animation\n",
      "kind : youtube#videoCategory , title : Action/Adventure\n",
      "kind : youtube#videoCategory , title : Classics\n",
      "kind : youtube#videoCategory , title : Comedy\n",
      "kind : youtube#videoCategory , title : Documentary\n",
      "kind : youtube#videoCategory , title : Drama\n",
      "kind : youtube#videoCategory , title : Family\n",
      "kind : youtube#videoCategory , title : Foreign\n",
      "kind : youtube#videoCategory , title : Horror\n",
      "kind : youtube#videoCategory , title : Sci-Fi/Fantasy\n",
      "kind : youtube#videoCategory , title : Thriller\n",
      "kind : youtube#videoCategory , title : Shorts\n",
      "kind : youtube#videoCategory , title : Shows\n",
      "kind : youtube#videoCategory , title : Trailers\n"
     ]
    }
   ],
   "source": [
    "# US_category 읽은 후 items 안의 kind와 title 출력\n",
    "with open(\"./download/US_category_id.json\", \"r\", encoding=\"utf-8\") as f:\n",
    "    items=json.load(f)[\"items\"]\n",
    "    # print(json.load(f)[\"items\"]\n",
    "    for num in range(len(items)):\n",
    "        kind =  items[num][\"kind\"]\n",
    "        title =  items[num][\"snippet\"][\"title\"]\n",
    "        print(f\"kind : {kind} , title : {title}\")"
   ]
  },
  {
   "cell_type": "code",
   "execution_count": null,
   "metadata": {},
   "outputs": [],
   "source": []
  }
 ],
 "metadata": {
  "kernelspec": {
   "display_name": "venv",
   "language": "python",
   "name": "python3"
  },
  "language_info": {
   "codemirror_mode": {
    "name": "ipython",
    "version": 3
   },
   "file_extension": ".py",
   "mimetype": "text/x-python",
   "name": "python",
   "nbconvert_exporter": "python",
   "pygments_lexer": "ipython3",
   "version": "3.12.3"
  }
 },
 "nbformat": 4,
 "nbformat_minor": 2
}
