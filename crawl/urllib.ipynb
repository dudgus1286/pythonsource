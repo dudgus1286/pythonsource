{
 "cells": [
  {
   "cell_type": "markdown",
   "metadata": {},
   "source": [
    "#### 파이썬 기본 라이브러리 사용\n",
    "- urllib 이용\n",
    "    - requests : 요청"
   ]
  },
  {
   "cell_type": "code",
   "execution_count": 1,
   "metadata": {},
   "outputs": [],
   "source": [
    "import urllib.request as req"
   ]
  },
  {
   "cell_type": "code",
   "execution_count": 11,
   "metadata": {},
   "outputs": [
    {
     "name": "stdout",
     "output_type": "stream",
     "text": [
      "('./download/google.html', <http.client.HTTPMessage object at 0x0000028432B87980>)\n",
      "./download/google.html\n",
      "Date: Wed, 22 May 2024 03:46:24 GMT\n",
      "Expires: -1\n",
      "Cache-Control: private, max-age=0\n",
      "Content-Type: text/html; charset=ISO-8859-1\n",
      "Content-Security-Policy-Report-Only: object-src 'none';base-uri 'self';script-src 'nonce-k8DVDsU5DwbJGo-l8Klrlg' 'strict-dynamic' 'report-sample' 'unsafe-eval' 'unsafe-inline' https: http:;report-uri https://csp.withgoogle.com/csp/gws/other-hp\n",
      "P3P: CP=\"This is not a P3P policy! See g.co/p3phelp for more info.\"\n",
      "Server: gws\n",
      "X-XSS-Protection: 0\n",
      "X-Frame-Options: SAMEORIGIN\n",
      "Set-Cookie: AEC=AQTF6HyFiFT5o52Zqth7N3VNvcfBtQsAg_oUXqCRxJEkizCsX6FitzlJ3Q; expires=Mon, 18-Nov-2024 03:46:24 GMT; path=/; domain=.google.com; Secure; HttpOnly; SameSite=lax\n",
      "Set-Cookie: NID=514=mn0woUG-wb6QEYxVTLtqj7q5WKh8U9DbzdaBa7U-8v0PcIgS0W8qprlxFrl1S8Yl40PUGWUnobF5Fvzdan_lyxUdcKqQdxtgDChnJ7lbb8Oq0g7ERE5EAN6AwRorbKvg78Btoq9-LnP5lhnx-i5jYjguXEOf8L-k3LedHWfFUu4; expires=Thu, 21-Nov-2024 03:46:24 GMT; path=/; domain=.google.com; HttpOnly\n",
      "Alt-Svc: h3=\":443\"; ma=2592000,h3-29=\":443\"; ma=2592000\n",
      "Accept-Ranges: none\n",
      "Vary: Accept-Encoding\n",
      "Connection: close\n",
      "Transfer-Encoding: chunked\n",
      "\n",
      "\n"
     ]
    }
   ],
   "source": [
    "url = \"https://www.google.com/\"\n",
    "save_path = \"./download/google.html\"\n",
    "\n",
    "# .urlretrieve(요청하는 주소, 파일 이름) : 요청하는 url의 정보를 로컬 파일로 저장\n",
    "# 튜플로 결과 반환. csv 파일, api 데이터 요청 시 사용\n",
    "print(req.urlretrieve(url, save_path))\n",
    "\n",
    "file1, header1 = req.urlretrieve(url, save_path)\n",
    "print(file1)\n",
    "print(header1)"
   ]
  },
  {
   "cell_type": "code",
   "execution_count": 12,
   "metadata": {},
   "outputs": [],
   "source": [
    "img_url = \"https://search.pstatic.net/common/?src=http%3A%2F%2Fblogfiles.naver.net%2FMjAyNDAxMjNfMjU0%2FMDAxNzA2MDE1MDE4NTA0.PkGS58aZKLt5bM0mwPCCz9m_RbjLCRdldGQNH-Pf8YYg.SzCWaEj2Ft1JRvjK49Rma1CVdfDup0iSor0gZ0E36Pog.PNG.1004sunjeong%2F%25BF%25A2%25C1%25D2%25C6%25BD.png&type=a340\"\n",
    "html_url = \"https://www.naver.com\"\n",
    "\n",
    "img_save_path = \"./download/cat.png\"\n",
    "html_save_path = \"./download/naver.html\"\n",
    "\n",
    "file1, header1 = req.urlretrieve(img_url, img_save_path)\n",
    "file2, header2 = req.urlretrieve(html_url, html_save_path)"
   ]
  },
  {
   "cell_type": "code",
   "execution_count": 14,
   "metadata": {},
   "outputs": [
    {
     "name": "stdout",
     "output_type": "stream",
     "text": [
      "<?xml version=\"1.0\" encoding=\"utf-8\" ?>\n",
      "<rss version=\"2.0\">\n",
      "<channel>\n",
      "<title>기상청 육상 중기예보</title>\n",
      "<link>http://www.kma.go.kr/weather/forecast/mid-term_02.jsp</link>\n",
      "<description>기상청 날씨 웹서비스</description>\n",
      "<language>ko</language>\n",
      "<generator>기상청</generator>\n",
      "<pubDate>2024년 05월 22일 (수)요일 06:00</pubDate>\n",
      " <item>\n",
      "<author>기상청</author>\n",
      "<category>육상중기예보</category>\n",
      "<title>서울,경기도 육상 중기예보 - 2024년 05월 22일 (수)요일 06:00 발표</title>\n",
      "<link>http://www.kma.go.kr/weather/forecast/mid-term_02.jsp</link>\n",
      "<guid>http://www.kma.go.kr/weather/forecast/mid-term_02.jsp</guid>\n",
      "<description>\n",
      "\t<header>\n",
      "\t\t<title>서울,경기도 육상중기예보</title>\n",
      "\t\t<tm>202405220600</tm>\n",
      "\t\t<wf><![CDATA[○ (강수) 26일(일) 오후~27일(월) 오전에 비가 오겠습니다.<br />○ (기온) 아침 기온은 13~18도로 평년(최저기온 12~16도)과 비슷하거나 조금 높겠습니다.<br />          낮 기온은 27일(월)에 20~24도로 평년(최고기온 23~26도)보다 낮겠고, 그 밖의 날은 22~27도로 평년(최고기온 23~27도)과 비슷하겠습니다.<br />○ (해상) 서해중부해상의 물결은 27일(월)에 1.0~2.5m로 조금 높게 일겠고, 그 밖의 날은 0.5~2.0m로 일겠습니다.<br />○ (주말전망) 25일(토)은 구름많겠고, 26일(일)은 구름많다가 오후에 흐리고 비가 오겠습니\n"
     ]
    }
   ],
   "source": [
    "weather_url = \"https://www.kma.go.kr/weather/forecast/mid-term-rss3.jsp?stnId=109\"\n",
    "\n",
    "# urlopen(요청 주소) : 메모리에 사이트 내용을 올려놓고 분석만 하는 경우 사용\n",
    "data = req.urlopen(weather_url).read()\n",
    "\n",
    "data = data.decode(\"utf-8\")\n",
    "\n",
    "print(data[:1000])"
   ]
  },
  {
   "cell_type": "code",
   "execution_count": 16,
   "metadata": {},
   "outputs": [
    {
     "name": "stdout",
     "output_type": "stream",
     "text": [
      "\n",
      "<!DOCTYPE HTML PUBLIC \"-//W3C//DTD HTML 4.01 Transitional//EN\" \"http://www.w3.org/TR/html4/loose.dtd\">\n",
      "\n",
      "\n",
      "\n",
      "\n",
      "<html lang=\"ko\">\n",
      "<head>\n",
      "\n",
      "<title>11번가 베스트 | 11번가</title>\n",
      "<meta name=\"Title\" content=\"11번가 베스트 | 11번가\">\n",
      "<meta name=\"Description\" content=\" 베스트! 다른 사람들은 지금 뭘 살까? 11번가 추천하는 실시간  베스트 아이템 순위!\">\n",
      "<meta name=\"Keywords\" content=\" | 11번가\">\n",
      "<meta http-equiv=\"Content-Type\" content=\"text/html; charset=euc-kr\">\n",
      "<meta http-equiv=\"X-UA-Compatible\" content=\"IE=edge\">\n",
      "<link rel=\"canonical\" href=\"//www.11st.co.kr/browsing/BestSeller.tmall?method=getBestSellerMain&#38;xfrom=main^gnb\"/><link rel=\"alternate\" media=\"only screen and (max-width: 640px)\" href=\"//m.11st.co.kr/page/main/rank\"/>\n",
      "\n",
      "\n",
      "\n",
      "<script type=\"text/javascript\" src=\"//c.011st.com/html/experiment/experimentMetaInfo.js\"></script>\n",
      "\n",
      "<script type=\"text/javascript\" src=\"//c.011st.com/js/plab/plab-web-sdk-0.9.1.min.js\"></script>\n",
      "\n",
      "<script>\n",
      "\n",
      "    var plabPageKey = '/best200/category';\n",
      "    try{\n",
      "\n",
      "        var params = {\n",
      "            projectKey : \"11st_web\n"
     ]
    }
   ],
   "source": [
    "url = \"https://www.11st.co.kr/browsing/BestSeller.tmall?method=getBestSellerMain&xfrom=main^gnb\"\n",
    "data = req.urlopen(url).read()\n",
    "\n",
    "data = data.decode(\"euc-kr\")\n",
    "\n",
    "print(data[:1000])"
   ]
  },
  {
   "cell_type": "code",
   "execution_count": 19,
   "metadata": {},
   "outputs": [
    {
     "name": "stdout",
     "output_type": "stream",
     "text": [
      "type : <class 'http.client.HTTPResponse'>\n",
      "url : https://www.11st.co.kr/browsing/BestSeller.tmall?method=getBestSellerMain&xfrom=main^gnb\n",
      "status : 200\n",
      "header : [('Date', 'Wed, 22 May 2024 04:09:01 GMT'), ('Content-Type', 'text/html;charset=EUC-KR'), ('Transfer-Encoding', 'chunked'), ('Set-Cookie', 'JSESSIONID=56B6E64B22DA03CBCCF6BF91C248B269.Tomcat; Path=/; HttpOnly'), ('Access-Control-Allow-Credentials', 'true'), ('Connection', 'close'), ('Server', 'nginx')]\n",
      "\n",
      "<!DOCTYPE HTML PUBLIC \"-//W3C//DTD HTML 4.01 Transitional//EN\" \"http://www.w3.org/TR/html4/loose.dtd\">\n",
      "\n",
      "\n",
      "\n",
      "\n",
      "<html lang=\"ko\">\n",
      "<head>\n",
      "\n",
      "<title>11번가 베스트 | 11번가</title>\n",
      "<meta name=\"Title\" content=\"11번가 베스트 | 11번가\">\n",
      "<meta name=\"Description\" content=\" 베스트! 다른 사람들은 지금 뭘 살까? 11번가 추천하는 실시간  베스트 아이템 순위!\">\n",
      "<meta name=\"Keywords\" content=\" | 11번가\">\n",
      "<meta http-equiv=\"Content-Type\" content=\"text/html; charset=euc-kr\">\n",
      "<meta http-equiv=\"X-UA-Compatible\" content=\"IE=edge\">\n",
      "<link rel=\"canonical\" href=\"//www.11st.co.kr/browsing/BestSeller.tmall?method=getBestSellerMain&#38;xfrom=main^gnb\"/><link rel=\"alternate\" media=\"only screen and (max-width: 640px)\" href=\"//m.11st.co.kr/page/main/rank\"/>\n",
      "\n",
      "\n",
      "\n",
      "<script type=\"text/javascript\" src=\"//c.011st.com/html/experiment/experimentMetaInfo.js\"></script>\n",
      "\n",
      "<script type=\"text/javascript\" src=\"//c.011st.com/js/plab/plab-web-sdk-0.9.1.min.js\"></script>\n",
      "\n",
      "<script>\n",
      "\n",
      "    var plabPageKey = '/best200/category';\n",
      "    try{\n",
      "\n",
      "        var params = {\n",
      "            projectKey : \"11st_web\n"
     ]
    }
   ],
   "source": [
    "url = \"https://www.11st.co.kr/browsing/BestSeller.tmall?method=getBestSellerMain&xfrom=main^gnb\"\n",
    "try:\n",
    "    response = req.urlopen(url)\n",
    "    print(\"type : {}\".format(type(response)))\n",
    "    print(\"url : {}\".format(response.geturl()))\n",
    "    print(\"status : {}\".format(response.status))\n",
    "    print(\"header : {}\".format(response.getheaders()))\n",
    "\n",
    "    contents = response.read().decode(\"euc-kr\")\n",
    "except Exception as e:\n",
    "    print(e)\n",
    "else:\n",
    "    print(contents[:1000])"
   ]
  },
  {
   "cell_type": "code",
   "execution_count": null,
   "metadata": {},
   "outputs": [],
   "source": [
    "urls = [\"https://search.pstatic.net/common/?src=http%3A%2F%2Fblogfiles.naver.net%2FMjAyNDAxMjNfMjU0%2FMDAxNzA2MDE1MDE4NTA0.PkGS58aZKLt5bM0mwPCCz9m_RbjLCRdldGQNH-Pf8YYg.SzCWaEj2Ft1JRvjK49Rma1CVdfDup0iSor0gZ0E36Pog.PNG.1004sunjeong%2F%25BF%25A2%25C1%25D2%25C6%25BD.png&type=a340\", \"https://www.naver.com\"]\n",
    "\n",
    "paths = [\"./download/cat.png\", \"./download/naver.html\"]\n",
    "\n",
    "for idx, url in enumerate(urls):\n",
    "    try:\n",
    "        response = req.urlopen(url)\n",
    "        contents = response.read()\n",
    "\n",
    "        # 파일 저장\n",
    "        \n",
    "    except Exception as e:\n",
    "        print(e)\n",
    "    else:\n",
    "        print(\"성공\")"
   ]
  }
 ],
 "metadata": {
  "kernelspec": {
   "display_name": "venv",
   "language": "python",
   "name": "python3"
  },
  "language_info": {
   "codemirror_mode": {
    "name": "ipython",
    "version": 3
   },
   "file_extension": ".py",
   "mimetype": "text/x-python",
   "name": "python",
   "nbconvert_exporter": "python",
   "pygments_lexer": "ipython3",
   "version": "3.12.3"
  }
 },
 "nbformat": 4,
 "nbformat_minor": 2
}
