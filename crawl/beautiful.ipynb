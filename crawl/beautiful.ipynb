{
 "cells": [
  {
   "cell_type": "markdown",
   "metadata": {},
   "source": [
    "### BeautifulSoup\n",
    "- 파서(html, xml 의 형태로 내려온 데이터를 원하는 요소만 찾기 위해 필요)\n",
    "- requests + bs4 : 이 조합으로 주로 크롤링\n",
    "- 파서 종류\n",
    "    - html.parser (두번째 속도)\n",
    "    - lxml (속도가 가장 빠름) : 설치 필요 pip install lxml\n",
    "    - html5lib (가장 느림)"
   ]
  },
  {
   "cell_type": "code",
   "execution_count": 1,
   "metadata": {},
   "outputs": [],
   "source": [
    "import requests\n",
    "from bs4 import BeautifulSoup"
   ]
  },
  {
   "cell_type": "code",
   "execution_count": 11,
   "metadata": {},
   "outputs": [
    {
     "name": "stdout",
     "output_type": "stream",
     "text": [
      "<title>“안 오고, 안 쓰고, 안 믿고”… 삼중고에 경고등 켜진 제주 관광산업</title>\n",
      "<h3 class=\"tit_view\" data-translation=\"true\">“안 오고, 안 쓰고, 안 믿고”… 삼중고에 경고등 켜진 제주 관광산업</h3>\n",
      "“안 오고, 안 쓰고, 안 믿고”… 삼중고에 경고등 켜진 제주 관광산업\n",
      "{'class': ['tit_view'], 'data-translation': 'true'}\n"
     ]
    }
   ],
   "source": [
    "url = \"https://v.daum.net/v/20240524043012545\"\n",
    "with requests.Session() as s:\n",
    "    r = s.get(url)\n",
    "    soup = BeautifulSoup(r.text, \"lxml\")\n",
    "    # print(soup)\n",
    "\n",
    "    # 요소 접근\n",
    "    # 태그명 사용\n",
    "    print(soup.title)\n",
    "    print(soup.h3)\n",
    "    # get_text() 태그 텍스트 추출\n",
    "    print(soup.title.get_text())\n",
    "    # attrs: 태그 속성 추출\n",
    "    print(soup.h3.attrs) "
   ]
  },
  {
   "cell_type": "code",
   "execution_count": 28,
   "metadata": {},
   "outputs": [
    {
     "name": "stdout",
     "output_type": "stream",
     "text": [
      "title <title>The Dormouse's story</title>\n",
      "title content1 The Dormouse's story\n",
      "title content2 The Dormouse's story\n",
      "title parent <head>\n",
      "<title>The Dormouse's story</title>\n",
      "</head>\n",
      "\n",
      "p <p class=\"title\">\n",
      "<b> The Dormouse's story </b>\n",
      "</p>\n",
      "p The Dormouse's story\n",
      "p {'class': ['title']}\n",
      "p ['title']\n",
      "\n",
      " The Dormouse's story \n"
     ]
    }
   ],
   "source": [
    "url = \"./story.html\"\n",
    "with open(url, \"r\") as f:\n",
    "    r = f.read()\n",
    "    # print(r)\n",
    "    soup = BeautifulSoup(r, \"lxml\")\n",
    "    # print(soup)\n",
    "    # title 태그 가져오기\n",
    "    title = soup.title\n",
    "    # 둘 중 하나가 작동 안 할 때 번갈아 쓰는 식으로 보완\n",
    "    print(f\"title {title}\")\n",
    "    print(f\"title content1 {title.get_text()}\")\n",
    "    print(f\"title content2 {title.string}\")\n",
    "    print(f\"title parent {title.parent}\")\n",
    "    print()\n",
    "\n",
    "    # p 태그 가져오기\n",
    "    p1 = soup.p\n",
    "    print(f\"p {p1}\")\n",
    "    # print(f\"p {p1.get_text()}\")\n",
    "    # b 태그 제외하고 공백까지 출력\n",
    "    #  \n",
    "    #  The Dormouse's story \n",
    "    # \n",
    "    print(f\"p {p1.get_text().strip()}\")\n",
    "    print(f\"p {p1.attrs}\") # 딕셔너리 형식\n",
    "    print(f\"p {p1['class']}\") # p 속성 중 class 속성 값 출력\n",
    "    print()\n",
    "\n",
    "    # b 태그 가져오기\n",
    "    b1 = soup.b\n",
    "    print(f\"{b1.get_text()}\")"
   ]
  },
  {
   "cell_type": "code",
   "execution_count": 34,
   "metadata": {},
   "outputs": [
    {
     "name": "stdout",
     "output_type": "stream",
     "text": [
      "p Once upon a time there were three little sisters; and their names were\n",
      "       Elsie \n",
      "      ,\n",
      "       Lacie \n",
      "      and\n",
      "       Tillie \n",
      "      ; and they lived at the bottom of a well.\n",
      "p None\n",
      "p {'class': ['story']}\n",
      "p ['story']\n",
      "\n"
     ]
    }
   ],
   "source": [
    "# 문서의 구조 이용한 요소 찾기 - find_ ~ () 형식의 메소드 이용\n",
    "# parent, children, rext_sibling ...\n",
    "\n",
    "url = \"./story.html\"\n",
    "with open(url, \"r\") as f:\n",
    "    r = f.read()\n",
    "    soup = BeautifulSoup(r, \"lxml\")\n",
    "\n",
    "    # body = soup.body\n",
    "    # print(f\"body children {body.children}\")\n",
    "    # # 결과 : body children <list_iterator object at 0x000001F252023640>\n",
    "    # # iterator : 하나씩 꺼낼 수 있는 요소\n",
    "\n",
    "    # for child in body.children:\n",
    "    #     print(child)\n",
    "\n",
    "    # 첫번째 p 요소 찾기\n",
    "    p1 = soup.p\n",
    "    p2 = p1.find_next_sibling(\"p\")\n",
    "    print(f\"p {p2.get_text().strip()}\")\n",
    "    print(f\"p {p2.string}\") # None\n",
    "    # print(f\"p {p2.string.strip()}\")\n",
    "    # p1.메소드()를 통해 찾은 요소를 strip으로 쓸 수 없음\n",
    "    # 요소를 못 찾아와서 에러 뜸\n",
    "    print(f\"p {p2.attrs}\") # 딕셔너리 형식\n",
    "    print(f\"p {p2['class']}\") # p 속성 중 class 속성 값 출력\n",
    "    print()"
   ]
  },
  {
   "cell_type": "code",
   "execution_count": 54,
   "metadata": {},
   "outputs": [
    {
     "name": "stdout",
     "output_type": "stream",
     "text": [
      "<head>\n",
      "<title>The Dormouse's story</title>\n",
      "</head>\n",
      "<p class=\"story\">...</p>\n",
      "====================\n",
      "<a class=\"sister\" href=\"http://example.com/elsie\" id=\"link1\"> Elsie </a>\n",
      "http://example.com/tillie\n",
      "<a class=\"sister\" href=\"http://example.com/elsie\" id=\"link1\"> Elsie </a>\n",
      "<a class=\"sister\" href=\"http://example.com/lacie\" id=\"link2\"> Lacie </a>\n"
     ]
    }
   ],
   "source": [
    "# find() : 조건을 만족하는 요소 한 개 찾기\n",
    "# find_all() : 조건을 만족하는 요소 모두 찾기\n",
    "\n",
    "url = \"./story.html\"\n",
    "with open(url, \"r\") as f:\n",
    "    r = f.read()\n",
    "    soup = BeautifulSoup(r, \"lxml\")\n",
    "\n",
    "    # 태그 이름으로 조회\n",
    "    head = soup.find(name=\"head\")\n",
    "    print(head)\n",
    "\n",
    "    # 태그 속성으로 조회\n",
    "    p1 = soup.find(\"p\",attrs={\"class\":\"title\"})\n",
    "    # print(p1)\n",
    "    # 태그 클래스명으로 조회 (class_=\"\") <= class 뒤에 언더바(_) 필수\n",
    "    p2 = soup.find(\"p\", class_=\"story\")\n",
    "    # print(p2)\n",
    "\n",
    "    # 조건에 만족하는 요소 모두 찾기(리스트 형식으로 반환)\n",
    "    p_all = soup.find_all(\"p\",class_=\"story\")\n",
    "    print(p_all[1])\n",
    "\n",
    "    print(\"=\"*20)\n",
    "    # a1 = soup.find(\"a\", attrs={\"id\":\"link1\"})\n",
    "    a1 = soup.find(\"a\", id=\"link1\")\n",
    "    print(a1)\n",
    "\n",
    "    a3 = soup.find(\"a\", id=\"link3\")\n",
    "    print(a3[\"href\"])\n",
    "\n",
    "    # limit = 가져올 개수에 제한을 둠\n",
    "    a_tags = soup.find_all(\"a\", limit=2)\n",
    "    for ele in a_tags:\n",
    "        print(ele)\n"
   ]
  },
  {
   "cell_type": "code",
   "execution_count": 59,
   "metadata": {},
   "outputs": [
    {
     "name": "stdout",
     "output_type": "stream",
     "text": [
      "['Elsie', 'Lacie', 'Tillie']\n",
      "[<a class=\"sister\" href=\"http://example.com/elsie\" id=\"link1\">Elsie</a>, <a class=\"sister\" href=\"http://example.com/lacie\" id=\"link2\">Lacie</a>, <a class=\"sister\" href=\"http://example.com/tillie\" id=\"link3\">Tillie</a>]\n"
     ]
    }
   ],
   "source": [
    "url = \"./story.html\"\n",
    "\n",
    "with open(url, \"r\") as f:\n",
    "    r = f.read()\n",
    "    soup = BeautifulSoup(r,\"lxml\")\n",
    "    # link1 = soup.find_all(string=\"Elsie\") # 원본에 공백 있을수도 있음\n",
    "    link1 = soup.find_all(string=[\"Elsie\", \"Lacie\", \"Tillie\"]) # 한 조건의 값으로 리스트로 여러 개 추가할 수 있음\n",
    "    link2 = soup.find_all(\"a\",string=[\"Elsie\", \"Lacie\", \"Tillie\"]) \n",
    "    print(link1) # 텍스트 요소만 리스트로 묶여서 출력\n",
    "    print(link2) # 태그 전체가 리스트로 묶여서 출력"
   ]
  },
  {
   "cell_type": "code",
   "execution_count": 70,
   "metadata": {},
   "outputs": [
    {
     "name": "stdout",
     "output_type": "stream",
     "text": [
      "Anna\n",
      "Pavlovna SchererEmpress Marya\n",
      "FedorovnaPrince Vasili KuraginAnna PavlovnaSt. Petersburgthe princeAnna PavlovnaAnna Pavlovnathe princethe princethe princePrince VasiliAnna PavlovnaAnna Pavlovnathe princeWintzingerodeKing of Prussiale Vicomte de MortemartMontmorencysRohansAbbe Moriothe Emperorthe princePrince VasiliDowager Empress Marya Fedorovnathe baronAnna Pavlovnathe Empressthe EmpressAnna Pavlovna'sHer MajestyBaron\n",
      "FunkeThe princeAnna\n",
      "Pavlovnathe EmpressThe princeAnatolethe princeThe princeAnna\n",
      "PavlovnaAnna PavlovnaWell, Prince, so Genoa and Lucca are now just family estates of the\n",
      "Buonapartes. But I warn you, if you don't tell me that this means war,\n",
      "if you still try to defend the infamies and horrors perpetrated by\n",
      "that Antichrist- I really believe he is Antichrist- I will have\n",
      "nothing more to do with you and you are no longer my friend, no longer\n",
      "my 'faithful slave,' as you call yourself! But how do you do? I see\n",
      "I have frightened you- sit down and tell me all the news.\n",
      "If you have nothing better to do, Count [or Prince], and if the\n",
      "prospect of spending an evening with a poor invalid is not too\n",
      "terrible, I shall be very charmed to see you tonight between 7 and 10-\n",
      "Annette Scherer.\n",
      "Heavens! what a virulent attack!\n",
      "First of all, dear friend, tell me how you are. Set your friend's\n",
      "mind at rest,\n",
      "Can one be well while suffering morally? Can one be calm in times\n",
      "like these if one has any feeling?\n",
      "You are\n",
      "staying the whole evening, I hope?\n",
      "And the fete at the English ambassador's? Today is Wednesday. I\n",
      "must put in an appearance there,\n",
      "My daughter is\n",
      "coming for me to take me there.\n",
      "I thought today's fete had been canceled. I confess all these\n",
      "festivities and fireworks are becoming wearisome.\n",
      "If they had known that you wished it, the entertainment would\n",
      "have been put off,\n",
      "Don't tease! Well, and what has been decided about Novosiltsev's\n",
      "dispatch? You know everything.\n",
      "What can one say about it?\n",
      "What has been decided? They have decided that\n",
      "Buonaparte has burnt his boats, and I believe that we are ready to\n",
      "burn ours.\n",
      "Oh, don't speak to me of Austria. Perhaps I don't understand\n",
      "things, but Austria never has wished, and does not wish, for war.\n",
      "She is betraying us! Russia alone must save Europe. Our gracious\n",
      "sovereign recognizes his high vocation and will be true to it. That is\n",
      "the one thing I have faith in! Our good and wonderful sovereign has to\n",
      "perform the noblest role on earth, and he is so virtuous and noble\n",
      "that God will not forsake him. He will fulfill his vocation and\n",
      "crush the hydra of revolution, which has become more terrible than\n",
      "ever in the person of this murderer and villain! We alone must\n",
      "avenge the blood of the just one.... Whom, I ask you, can we rely\n",
      "on?... England with her commercial spirit will not and cannot\n",
      "understand the Emperor Alexander's loftiness of soul. She has\n",
      "refused to evacuate Malta. She wanted to find, and still seeks, some\n",
      "secret motive in our actions. What answer did Novosiltsev get? None.\n",
      "The English have not understood and cannot understand the\n",
      "self-abnegation of our Emperor who wants nothing for himself, but only\n",
      "desires the good of mankind. And what have they promised? Nothing! And\n",
      "what little they have promised they will not perform! Prussia has\n",
      "always declared that Buonaparte is invincible, and that all Europe\n",
      "is powerless before him.... And I don't believe a word that Hardenburg\n",
      "says, or Haugwitz either. This famous Prussian neutrality is just a\n",
      "trap. I have faith only in God and the lofty destiny of our adored\n",
      "monarch. He will save Europe!\n",
      "I think,\n",
      "None\n",
      "In a moment. A propos,\n",
      "None\n",
      "I shall be delighted to meet them,\n",
      "But tell me,\n",
      "is it true that the Dowager Empress wants Baron Funke\n",
      "to be appointed first secretary at Vienna? The baron by all accounts\n",
      "is a poor creature.\n",
      "Baron Funke has been recommended to the Dowager Empress by her\n",
      "sister,\n",
      "Now about your family. Do you know that since your daughter came\n",
      "out everyone has been enraptured by her? They say she is amazingly\n",
      "beautiful.\n",
      "I often think,\n",
      "None\n",
      "Two such charming children. And really you appreciate\n",
      "them less than anyone, and so you don't deserve to have them.\n",
      "I can't help it,\n",
      "Lavater would have said I\n",
      "lack the bump of paternity.\n",
      "Don't joke; I mean to have a serious talk with you. Do you know I\n",
      "am dissatisfied with your younger son? Between ourselves\n",
      "he was mentioned at Her\n",
      "Majesty's and you were pitied....\n",
      "What would you have me do?\n",
      "You know I did all\n",
      "a father could for their education, and they have both turned out\n",
      "fools. Hippolyte is at least a quiet fool, but Anatole is an active\n",
      "one. That is the only difference between them.\n",
      "And why are children born to such men as you? If you were not a\n",
      "father there would be nothing I could reproach you with,\n",
      "I am your faithful slave and to you alone I can confess that my\n",
      "children are the bane of my life. It is the cross I have to bear. That\n",
      "is how I explain it to myself. It can't be helped!\n"
     ]
    }
   ],
   "source": [
    "\n",
    "url = \"https://pythonscraping.com/pages/warandpeace.html\"\n",
    "\n",
    "with requests.Session() as s:\n",
    "    r = s.get(url)\n",
    "    soup = BeautifulSoup(r.text,\"lxml\")\n",
    "\n",
    "    # 등장인물 출력\n",
    "    spanList=soup.find_all(\"span\",class_=\"green\")\n",
    "    for span in spanList:\n",
    "        print(span.string, end=\"\")\n",
    "\n",
    "# 대사 출력\n",
    "    spanList = soup.find_all(\"span\", class_=\"red\")\n",
    "    for d in spanList:\n",
    "        print(d.string)\n",
    "\n"
   ]
  },
  {
   "cell_type": "code",
   "execution_count": 89,
   "metadata": {},
   "outputs": [
    {
     "name": "stdout",
     "output_type": "stream",
     "text": [
      "“안 오고, 안 쓰고, 안 믿고”… 삼중고에 경고등 켜진 제주 관광산업\n",
      "김영헌\n",
      "2024. 5. 24. 04:30\n",
      " 지난 22일 오후 7시쯤 제주 제주시 건입동 흑돼지거리. 흑돼지 전문 고깃집이 모여 있어 관광객들에게 잘 알려진 음식점 거리다. 하지만 손님이 몰리는 저녁시간대임에도 불구하고 식당들 안쪽에는 빈자리가 곳곳에 눈에 띄었다. 일부 식당 앞에서는 직원들이 호객행위를 하고 있었다. ‘코로나19 특수’ 때 관광객들로 이 거리가 발 디딜 틈 없었던 것과는 딴판이었다. \n",
      " 지난 22일 오후 7시쯤 제주 제주시 건입동 흑돼지거리. 흑돼지 전문 고깃집이 모여 있어 관광객들에게 잘 알려진 음식점 거리다. 하지만 손님이 몰리는 저녁시간대임에도 불구하고 식당들 안쪽에는 빈자리가 곳곳에 눈에 띄었다. 일부 식당 앞에서는 직원들이 호객행위를 하고 있었다. ‘코로나19 특수’ 때 관광객들로 이 거리가 발 디딜 틈 없었던 것과는 딴판이었다. \n",
      " 이곳에서 흑돼지 전문 고깃집을 운영하는 업주들은 “코로나가 끝난 다음에는 해외여행이 늘고 내국인 관광객이 줄어 가뜩이나 힘든데 ‘비계삼겹살’ 논란 때문에 장사하기 더 힘들어졌다”며 “식당 한 곳의 잘못 때문에 다른 식당들까지 피해를 보고 있다”고 울상을 지었다. 제주 돼지고기에 대한 높아진 불신은 그렇지 않아도 감소세인 매출에 직격탄이 되고 있다. 흑돼지 맛집으로 알려진 제주 시내 다른 고깃집 업주 A(62)씨도 “일부 손님들은 고기를 받자마자 뒤집어 확인을 먼저 하고 마음에 들지 않으면 바로 바꿔달라고 하는 경우가 늘었다\"고 털어놓았다. \n",
      " 제주 관광산업에 경고등이 들어왔다. 무엇보다 코로나19 엔데믹으로 해외여행 수요가 급증하면서 제주를 찾는 내국인 관광객이 급감했다. 제주도관광협회에 따르면 올 들어 지난 22일까지 제주를 방문한 내국인 관광객은 458만4,200명으로 지난해 동기 대비 8.4% 줄었다. 2022년 1,380만 명으로 사상치를 찍었던 내국인 관광객은 지난해 1,266만 명으로 줄었고 감소세가 계속된다면 올해는 1,100만 명대까지 떨어질 것으로 예측된다. \n",
      " 제주관광산업의 90% 안팎을 차지하는 내국인 관광객이 줄면서 숙박시설과 음식점, 도내 골프장까지 가릴 것 없이 매출이 감소했다. 여기에 최근의 '비계 삼겹살' 논란은 기름을 부은 격이다. 제주를 찾은 관광객 이모(45)씨는 “주위에 제주 관광비용 정도면 해외여행을 가겠다는 사람이 많다”며 “같은 값이면 불친절하고 물가도 비싼 제주로 누가 오겠냐”고 꼬집었다.\n",
      " 외국인 관광객은 늘었지만 이들의 씀씀이가 줄어든 것도 악재다. 제주도 관광협회에 따르면 4월 말 현재 제주를 찾은 외국인 관광객은 54만2,000명으로 전년 동기(10만 명) 대비 441% 증가했다. 하지만 '큰손'으로 불렸던 중국인 관광객들의 소비가 줄고 소비여력이 큰 30, 40대 관광객들 이 찾지 않아 전체적인 소비는 줄었다. 제주관광공사에 따르면 지난해 제주를 찾은 외국인 관광객 1인당 평균 총지출경비는 1,033.9달러(약 141만 원)로 최근 5년간 가장 적었다. 제주관광공사의 분석 결과 올해 1분기 내국인 관광객 신용카드 소비액도 5,415억 원으로 지난해 같은 기간 6,205억 원보다 12.7% 줄었다. \n",
      " 전문가들은 제주 관광산업의 위기를 타개하기 위해서는 양질의 서비스 제공이라는 기본에 충실해야 한다고 입을 모은다. 문성종 제주한라대 관광경영과 교수는 “내국인 관광객 수요를 창출하고 제주관광 이미지 개선을 위한 새롭고 혁신적인 수용태세를 마련해야 할 것”이라며 “무엇보다 관광업계가 공정한 가격과 좋은 서비스 품질 제공을 약속해야 한다”고 강조했다.\n",
      "제주= 김영헌 기자 tamla@hankookilbo.com\n"
     ]
    }
   ],
   "source": [
    "url = \"https://v.daum.net/v/20240524043012545\"\n",
    "with requests.Session() as s:\n",
    "    r = s.get(url)\n",
    "    soup = BeautifulSoup(r.text, \"lxml\")\n",
    "\n",
    "    # 뉴스 제목 출력\n",
    "    title = soup.h3.get_text()\n",
    "    print(title)\n",
    "\n",
    "    # 작성자 출력\n",
    "    writer = soup.find(\"div\", class_=\"info_view\").find(\"span\")\n",
    "    print(writer.text)\n",
    "\n",
    "\n",
    "    # 작성시간 출력\n",
    "    createdAt = soup.find(attrs={\"class\" : \"num_date\"})\n",
    "    print(createdAt.text)\n",
    "\n",
    "    # 첫번째 문단\n",
    "    firstText = soup.find(\"p\", attrs={\"dmcf-ptype\":\"general\"})\n",
    "    print(firstText.text)\n",
    "\n",
    "    # 전체 본문 내용\n",
    "    news = soup.find_all(\"p\", attrs={\"dmcf-ptype\":\"general\"})\n",
    "    for p in news:\n",
    "        print(p.text)"
   ]
  },
  {
   "cell_type": "code",
   "execution_count": null,
   "metadata": {},
   "outputs": [],
   "source": []
  }
 ],
 "metadata": {
  "kernelspec": {
   "display_name": "venv",
   "language": "python",
   "name": "python3"
  },
  "language_info": {
   "codemirror_mode": {
    "name": "ipython",
    "version": 3
   },
   "file_extension": ".py",
   "mimetype": "text/x-python",
   "name": "python",
   "nbconvert_exporter": "python",
   "pygments_lexer": "ipython3",
   "version": "3.12.3"
  }
 },
 "nbformat": 4,
 "nbformat_minor": 2
}
